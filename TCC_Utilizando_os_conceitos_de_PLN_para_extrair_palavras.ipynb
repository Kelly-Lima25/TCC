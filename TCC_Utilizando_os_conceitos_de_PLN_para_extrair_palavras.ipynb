{
  "cells": [
    {
      "cell_type": "markdown",
      "metadata": {
        "id": "view-in-github",
        "colab_type": "text"
      },
      "source": [
        "<a href=\"https://colab.research.google.com/github/Kelly-Lima25/TCC/blob/main/TCC_Utilizando_os_conceitos_de_PLN_para_extrair_palavras.ipynb\" target=\"_parent\"><img src=\"https://colab.research.google.com/assets/colab-badge.svg\" alt=\"Open In Colab\"/></a>"
      ]
    },
    {
      "cell_type": "markdown",
      "metadata": {
        "id": "wBhW-jhAQwwr"
      },
      "source": [
        "# Usando a biblioteca ruppell\n",
        "A biblioteca permite a extração de texto de arquivos pdf e converte para dataframe.\n"
      ]
    },
    {
      "cell_type": "code",
      "execution_count": null,
      "metadata": {
        "colab": {
          "base_uri": "https://localhost:8080/"
        },
        "id": "dW7rnxa49_om",
        "outputId": "76217c39-cdcc-4e46-e981-87010727233a",
        "collapsed": true
      },
      "outputs": [
        {
          "output_type": "stream",
          "name": "stdout",
          "text": [
            "Requirement already satisfied: ruppell in /usr/local/lib/python3.10/dist-packages (1.0.1)\n",
            "Requirement already satisfied: Pillow~=10.0.0 in /usr/local/lib/python3.10/dist-packages (from ruppell) (10.0.1)\n",
            "Requirement already satisfied: pytesseract~=0.3.10 in /usr/local/lib/python3.10/dist-packages (from ruppell) (0.3.13)\n",
            "Requirement already satisfied: setuptools~=68.0.0 in /usr/local/lib/python3.10/dist-packages (from ruppell) (68.0.0)\n",
            "Requirement already satisfied: pdfminer.six==20221105 in /usr/local/lib/python3.10/dist-packages (from ruppell) (20221105)\n",
            "Requirement already satisfied: docx2txt~=0.8 in /usr/local/lib/python3.10/dist-packages (from ruppell) (0.8)\n",
            "Requirement already satisfied: pandas~=2.0.3 in /usr/local/lib/python3.10/dist-packages (from ruppell) (2.0.3)\n",
            "Requirement already satisfied: charset-normalizer>=2.0.0 in /usr/local/lib/python3.10/dist-packages (from pdfminer.six==20221105->ruppell) (3.3.2)\n",
            "Requirement already satisfied: cryptography>=36.0.0 in /usr/local/lib/python3.10/dist-packages (from pdfminer.six==20221105->ruppell) (43.0.1)\n",
            "Requirement already satisfied: python-dateutil>=2.8.2 in /usr/local/lib/python3.10/dist-packages (from pandas~=2.0.3->ruppell) (2.8.2)\n",
            "Requirement already satisfied: pytz>=2020.1 in /usr/local/lib/python3.10/dist-packages (from pandas~=2.0.3->ruppell) (2024.2)\n",
            "Requirement already satisfied: tzdata>=2022.1 in /usr/local/lib/python3.10/dist-packages (from pandas~=2.0.3->ruppell) (2024.1)\n",
            "Requirement already satisfied: numpy>=1.21.0 in /usr/local/lib/python3.10/dist-packages (from pandas~=2.0.3->ruppell) (1.26.4)\n",
            "Requirement already satisfied: packaging>=21.3 in /usr/local/lib/python3.10/dist-packages (from pytesseract~=0.3.10->ruppell) (24.1)\n",
            "Requirement already satisfied: cffi>=1.12 in /usr/local/lib/python3.10/dist-packages (from cryptography>=36.0.0->pdfminer.six==20221105->ruppell) (1.17.1)\n",
            "Requirement already satisfied: six>=1.5 in /usr/local/lib/python3.10/dist-packages (from python-dateutil>=2.8.2->pandas~=2.0.3->ruppell) (1.16.0)\n",
            "Requirement already satisfied: pycparser in /usr/local/lib/python3.10/dist-packages (from cffi>=1.12->cryptography>=36.0.0->pdfminer.six==20221105->ruppell) (2.22)\n"
          ]
        }
      ],
      "source": [
        "!pip install ruppell"
      ]
    },
    {
      "cell_type": "code",
      "execution_count": null,
      "metadata": {
        "id": "Pxbv4bnLHFSE"
      },
      "outputs": [],
      "source": [
        "import ruppell\n",
        "\n",
        "ruppell.setup_language(language='por') #Configurando o idioma para a linguagem do arquivo pdf"
      ]
    },
    {
      "cell_type": "markdown",
      "source": [
        "#Montando o Drive"
      ],
      "metadata": {
        "id": "blqctWY9n3Fs"
      }
    },
    {
      "cell_type": "code",
      "execution_count": null,
      "metadata": {
        "colab": {
          "base_uri": "https://localhost:8080/"
        },
        "id": "Q3wPdovKHYPZ",
        "outputId": "f97446a6-b8c1-4dbd-bfc9-5f1b7f6d6329"
      },
      "outputs": [
        {
          "output_type": "stream",
          "name": "stdout",
          "text": [
            "Mounted at /content/drive\n"
          ]
        }
      ],
      "source": [
        "from google.colab import drive\n",
        "drive.mount('/content/drive')"
      ]
    },
    {
      "cell_type": "markdown",
      "metadata": {
        "id": "DKqpnNffW7Ug"
      },
      "source": [
        "# Criando o dataframe a partir dos arquivos pdf."
      ]
    },
    {
      "cell_type": "code",
      "execution_count": null,
      "metadata": {
        "id": "_9WZze1iz6zG"
      },
      "outputs": [],
      "source": [
        "data_Brasil = ruppell.folder_to_dataframe(folder_path='/content/drive/MyDrive/TCC/País/Brasil')\n",
        "\n",
        "data_China = ruppell.folder_to_dataframe(folder_path='/content/drive/MyDrive/TCC/País/China')\n",
        "\n",
        "data_EUA = ruppell.folder_to_dataframe(folder_path='/content/drive/MyDrive/TCC/País/EUA')\n",
        "\n",
        "data_Egito = ruppell.folder_to_dataframe(folder_path='/content/drive/MyDrive/TCC/País/Egito')\n",
        "\n",
        "data_ReinoUnido = ruppell.folder_to_dataframe(folder_path='/content/drive/MyDrive/TCC/País/Reino Unido')\n",
        "\n",
        "data_Ruanda = ruppell.folder_to_dataframe(folder_path='/content/drive/MyDrive/TCC/País/Ruanda')\n",
        "\n",
        "data_Singapura = ruppell.folder_to_dataframe(folder_path='/content/drive/MyDrive/TCC/País/Singapura')\n",
        "\n",
        "data_UE = ruppell.folder_to_dataframe(folder_path='/content/drive/MyDrive/TCC/País/União Europeia')\n",
        "\n",
        "data_Vietna = ruppell.folder_to_dataframe(folder_path='/content/drive/MyDrive/TCC/País/Vietnã')\n"
      ]
    },
    {
      "cell_type": "markdown",
      "metadata": {
        "id": "Lr8ADLflDmRo"
      },
      "source": [
        "# Tratamento das palavras"
      ]
    },
    {
      "cell_type": "markdown",
      "metadata": {
        "id": "dTOznPJ5DtWs"
      },
      "source": [
        "Utilizando a biblioteca NLTK para fazer a tokenização das palavras"
      ]
    },
    {
      "cell_type": "code",
      "execution_count": null,
      "metadata": {
        "id": "S2I-bng-D3XQ",
        "collapsed": true,
        "colab": {
          "base_uri": "https://localhost:8080/"
        },
        "outputId": "3c8cfe2f-44b8-4926-fca1-7bce9df71829"
      },
      "outputs": [
        {
          "output_type": "stream",
          "name": "stderr",
          "text": [
            "[nltk_data] Downloading collection 'all'\n",
            "[nltk_data]    | \n",
            "[nltk_data]    | Downloading package abc to /root/nltk_data...\n",
            "[nltk_data]    |   Unzipping corpora/abc.zip.\n",
            "[nltk_data]    | Downloading package alpino to /root/nltk_data...\n",
            "[nltk_data]    |   Unzipping corpora/alpino.zip.\n",
            "[nltk_data]    | Downloading package averaged_perceptron_tagger to\n",
            "[nltk_data]    |     /root/nltk_data...\n",
            "[nltk_data]    |   Unzipping taggers/averaged_perceptron_tagger.zip.\n",
            "[nltk_data]    | Downloading package averaged_perceptron_tagger_eng to\n",
            "[nltk_data]    |     /root/nltk_data...\n",
            "[nltk_data]    |   Unzipping\n",
            "[nltk_data]    |       taggers/averaged_perceptron_tagger_eng.zip.\n",
            "[nltk_data]    | Downloading package averaged_perceptron_tagger_ru to\n",
            "[nltk_data]    |     /root/nltk_data...\n",
            "[nltk_data]    |   Unzipping\n",
            "[nltk_data]    |       taggers/averaged_perceptron_tagger_ru.zip.\n",
            "[nltk_data]    | Downloading package averaged_perceptron_tagger_rus to\n",
            "[nltk_data]    |     /root/nltk_data...\n",
            "[nltk_data]    |   Unzipping\n",
            "[nltk_data]    |       taggers/averaged_perceptron_tagger_rus.zip.\n",
            "[nltk_data]    | Downloading package basque_grammars to\n",
            "[nltk_data]    |     /root/nltk_data...\n",
            "[nltk_data]    |   Unzipping grammars/basque_grammars.zip.\n",
            "[nltk_data]    | Downloading package bcp47 to /root/nltk_data...\n",
            "[nltk_data]    | Downloading package biocreative_ppi to\n",
            "[nltk_data]    |     /root/nltk_data...\n",
            "[nltk_data]    |   Unzipping corpora/biocreative_ppi.zip.\n",
            "[nltk_data]    | Downloading package bllip_wsj_no_aux to\n",
            "[nltk_data]    |     /root/nltk_data...\n",
            "[nltk_data]    |   Unzipping models/bllip_wsj_no_aux.zip.\n",
            "[nltk_data]    | Downloading package book_grammars to\n",
            "[nltk_data]    |     /root/nltk_data...\n",
            "[nltk_data]    |   Unzipping grammars/book_grammars.zip.\n",
            "[nltk_data]    | Downloading package brown to /root/nltk_data...\n",
            "[nltk_data]    |   Unzipping corpora/brown.zip.\n",
            "[nltk_data]    | Downloading package brown_tei to /root/nltk_data...\n",
            "[nltk_data]    |   Unzipping corpora/brown_tei.zip.\n",
            "[nltk_data]    | Downloading package cess_cat to /root/nltk_data...\n",
            "[nltk_data]    |   Unzipping corpora/cess_cat.zip.\n",
            "[nltk_data]    | Downloading package cess_esp to /root/nltk_data...\n",
            "[nltk_data]    |   Unzipping corpora/cess_esp.zip.\n",
            "[nltk_data]    | Downloading package chat80 to /root/nltk_data...\n",
            "[nltk_data]    |   Unzipping corpora/chat80.zip.\n",
            "[nltk_data]    | Downloading package city_database to\n",
            "[nltk_data]    |     /root/nltk_data...\n",
            "[nltk_data]    |   Unzipping corpora/city_database.zip.\n",
            "[nltk_data]    | Downloading package cmudict to /root/nltk_data...\n",
            "[nltk_data]    |   Unzipping corpora/cmudict.zip.\n",
            "[nltk_data]    | Downloading package comparative_sentences to\n",
            "[nltk_data]    |     /root/nltk_data...\n",
            "[nltk_data]    |   Unzipping corpora/comparative_sentences.zip.\n",
            "[nltk_data]    | Downloading package comtrans to /root/nltk_data...\n",
            "[nltk_data]    | Downloading package conll2000 to /root/nltk_data...\n",
            "[nltk_data]    |   Unzipping corpora/conll2000.zip.\n",
            "[nltk_data]    | Downloading package conll2002 to /root/nltk_data...\n",
            "[nltk_data]    |   Unzipping corpora/conll2002.zip.\n",
            "[nltk_data]    | Downloading package conll2007 to /root/nltk_data...\n",
            "[nltk_data]    | Downloading package crubadan to /root/nltk_data...\n",
            "[nltk_data]    |   Unzipping corpora/crubadan.zip.\n",
            "[nltk_data]    | Downloading package dependency_treebank to\n",
            "[nltk_data]    |     /root/nltk_data...\n",
            "[nltk_data]    |   Unzipping corpora/dependency_treebank.zip.\n",
            "[nltk_data]    | Downloading package dolch to /root/nltk_data...\n",
            "[nltk_data]    |   Unzipping corpora/dolch.zip.\n",
            "[nltk_data]    | Downloading package europarl_raw to\n",
            "[nltk_data]    |     /root/nltk_data...\n",
            "[nltk_data]    |   Unzipping corpora/europarl_raw.zip.\n",
            "[nltk_data]    | Downloading package extended_omw to\n",
            "[nltk_data]    |     /root/nltk_data...\n",
            "[nltk_data]    | Downloading package floresta to /root/nltk_data...\n",
            "[nltk_data]    |   Unzipping corpora/floresta.zip.\n",
            "[nltk_data]    | Downloading package framenet_v15 to\n",
            "[nltk_data]    |     /root/nltk_data...\n",
            "[nltk_data]    |   Unzipping corpora/framenet_v15.zip.\n",
            "[nltk_data]    | Downloading package framenet_v17 to\n",
            "[nltk_data]    |     /root/nltk_data...\n",
            "[nltk_data]    |   Unzipping corpora/framenet_v17.zip.\n",
            "[nltk_data]    | Downloading package gazetteers to /root/nltk_data...\n",
            "[nltk_data]    |   Unzipping corpora/gazetteers.zip.\n",
            "[nltk_data]    | Downloading package genesis to /root/nltk_data...\n",
            "[nltk_data]    |   Unzipping corpora/genesis.zip.\n",
            "[nltk_data]    | Downloading package gutenberg to /root/nltk_data...\n",
            "[nltk_data]    |   Unzipping corpora/gutenberg.zip.\n",
            "[nltk_data]    | Downloading package ieer to /root/nltk_data...\n",
            "[nltk_data]    |   Unzipping corpora/ieer.zip.\n",
            "[nltk_data]    | Downloading package inaugural to /root/nltk_data...\n",
            "[nltk_data]    |   Unzipping corpora/inaugural.zip.\n",
            "[nltk_data]    | Downloading package indian to /root/nltk_data...\n",
            "[nltk_data]    |   Unzipping corpora/indian.zip.\n",
            "[nltk_data]    | Downloading package jeita to /root/nltk_data...\n",
            "[nltk_data]    | Downloading package kimmo to /root/nltk_data...\n",
            "[nltk_data]    |   Unzipping corpora/kimmo.zip.\n",
            "[nltk_data]    | Downloading package knbc to /root/nltk_data...\n",
            "[nltk_data]    | Downloading package large_grammars to\n",
            "[nltk_data]    |     /root/nltk_data...\n",
            "[nltk_data]    |   Unzipping grammars/large_grammars.zip.\n",
            "[nltk_data]    | Downloading package lin_thesaurus to\n",
            "[nltk_data]    |     /root/nltk_data...\n",
            "[nltk_data]    |   Unzipping corpora/lin_thesaurus.zip.\n",
            "[nltk_data]    | Downloading package mac_morpho to /root/nltk_data...\n",
            "[nltk_data]    |   Unzipping corpora/mac_morpho.zip.\n",
            "[nltk_data]    | Downloading package machado to /root/nltk_data...\n",
            "[nltk_data]    | Downloading package masc_tagged to /root/nltk_data...\n",
            "[nltk_data]    | Downloading package maxent_ne_chunker to\n",
            "[nltk_data]    |     /root/nltk_data...\n",
            "[nltk_data]    |   Unzipping chunkers/maxent_ne_chunker.zip.\n",
            "[nltk_data]    | Downloading package maxent_ne_chunker_tab to\n",
            "[nltk_data]    |     /root/nltk_data...\n",
            "[nltk_data]    |   Unzipping chunkers/maxent_ne_chunker_tab.zip.\n",
            "[nltk_data]    | Downloading package maxent_treebank_pos_tagger to\n",
            "[nltk_data]    |     /root/nltk_data...\n",
            "[nltk_data]    |   Unzipping taggers/maxent_treebank_pos_tagger.zip.\n",
            "[nltk_data]    | Downloading package maxent_treebank_pos_tagger_tab to\n",
            "[nltk_data]    |     /root/nltk_data...\n",
            "[nltk_data]    |   Unzipping\n",
            "[nltk_data]    |       taggers/maxent_treebank_pos_tagger_tab.zip.\n",
            "[nltk_data]    | Downloading package moses_sample to\n",
            "[nltk_data]    |     /root/nltk_data...\n",
            "[nltk_data]    |   Unzipping models/moses_sample.zip.\n",
            "[nltk_data]    | Downloading package movie_reviews to\n",
            "[nltk_data]    |     /root/nltk_data...\n",
            "[nltk_data]    |   Unzipping corpora/movie_reviews.zip.\n",
            "[nltk_data]    | Downloading package mte_teip5 to /root/nltk_data...\n",
            "[nltk_data]    |   Unzipping corpora/mte_teip5.zip.\n",
            "[nltk_data]    | Downloading package mwa_ppdb to /root/nltk_data...\n",
            "[nltk_data]    |   Unzipping misc/mwa_ppdb.zip.\n",
            "[nltk_data]    | Downloading package names to /root/nltk_data...\n",
            "[nltk_data]    |   Unzipping corpora/names.zip.\n",
            "[nltk_data]    | Downloading package nombank.1.0 to /root/nltk_data...\n",
            "[nltk_data]    | Downloading package nonbreaking_prefixes to\n",
            "[nltk_data]    |     /root/nltk_data...\n",
            "[nltk_data]    |   Unzipping corpora/nonbreaking_prefixes.zip.\n",
            "[nltk_data]    | Downloading package nps_chat to /root/nltk_data...\n",
            "[nltk_data]    |   Unzipping corpora/nps_chat.zip.\n",
            "[nltk_data]    | Downloading package omw to /root/nltk_data...\n",
            "[nltk_data]    | Downloading package omw-1.4 to /root/nltk_data...\n",
            "[nltk_data]    | Downloading package opinion_lexicon to\n",
            "[nltk_data]    |     /root/nltk_data...\n",
            "[nltk_data]    |   Unzipping corpora/opinion_lexicon.zip.\n",
            "[nltk_data]    | Downloading package panlex_swadesh to\n",
            "[nltk_data]    |     /root/nltk_data...\n",
            "[nltk_data]    | Downloading package paradigms to /root/nltk_data...\n",
            "[nltk_data]    |   Unzipping corpora/paradigms.zip.\n",
            "[nltk_data]    | Downloading package pe08 to /root/nltk_data...\n",
            "[nltk_data]    |   Unzipping corpora/pe08.zip.\n",
            "[nltk_data]    | Downloading package perluniprops to\n",
            "[nltk_data]    |     /root/nltk_data...\n",
            "[nltk_data]    |   Unzipping misc/perluniprops.zip.\n",
            "[nltk_data]    | Downloading package pil to /root/nltk_data...\n",
            "[nltk_data]    |   Unzipping corpora/pil.zip.\n",
            "[nltk_data]    | Downloading package pl196x to /root/nltk_data...\n",
            "[nltk_data]    |   Unzipping corpora/pl196x.zip.\n",
            "[nltk_data]    | Downloading package porter_test to /root/nltk_data...\n",
            "[nltk_data]    |   Unzipping stemmers/porter_test.zip.\n",
            "[nltk_data]    | Downloading package ppattach to /root/nltk_data...\n",
            "[nltk_data]    |   Unzipping corpora/ppattach.zip.\n",
            "[nltk_data]    | Downloading package problem_reports to\n",
            "[nltk_data]    |     /root/nltk_data...\n",
            "[nltk_data]    |   Unzipping corpora/problem_reports.zip.\n",
            "[nltk_data]    | Downloading package product_reviews_1 to\n",
            "[nltk_data]    |     /root/nltk_data...\n",
            "[nltk_data]    |   Unzipping corpora/product_reviews_1.zip.\n",
            "[nltk_data]    | Downloading package product_reviews_2 to\n",
            "[nltk_data]    |     /root/nltk_data...\n",
            "[nltk_data]    |   Unzipping corpora/product_reviews_2.zip.\n",
            "[nltk_data]    | Downloading package propbank to /root/nltk_data...\n",
            "[nltk_data]    | Downloading package pros_cons to /root/nltk_data...\n",
            "[nltk_data]    |   Unzipping corpora/pros_cons.zip.\n",
            "[nltk_data]    | Downloading package ptb to /root/nltk_data...\n",
            "[nltk_data]    |   Unzipping corpora/ptb.zip.\n",
            "[nltk_data]    | Downloading package punkt to /root/nltk_data...\n",
            "[nltk_data]    |   Unzipping tokenizers/punkt.zip.\n",
            "[nltk_data]    | Downloading package punkt_tab to /root/nltk_data...\n",
            "[nltk_data]    |   Unzipping tokenizers/punkt_tab.zip.\n",
            "[nltk_data]    | Downloading package qc to /root/nltk_data...\n",
            "[nltk_data]    |   Unzipping corpora/qc.zip.\n",
            "[nltk_data]    | Downloading package reuters to /root/nltk_data...\n",
            "[nltk_data]    | Downloading package rslp to /root/nltk_data...\n",
            "[nltk_data]    |   Unzipping stemmers/rslp.zip.\n",
            "[nltk_data]    | Downloading package rte to /root/nltk_data...\n",
            "[nltk_data]    |   Unzipping corpora/rte.zip.\n",
            "[nltk_data]    | Downloading package sample_grammars to\n",
            "[nltk_data]    |     /root/nltk_data...\n",
            "[nltk_data]    |   Unzipping grammars/sample_grammars.zip.\n",
            "[nltk_data]    | Downloading package semcor to /root/nltk_data...\n",
            "[nltk_data]    | Downloading package senseval to /root/nltk_data...\n",
            "[nltk_data]    |   Unzipping corpora/senseval.zip.\n",
            "[nltk_data]    | Downloading package sentence_polarity to\n",
            "[nltk_data]    |     /root/nltk_data...\n",
            "[nltk_data]    |   Unzipping corpora/sentence_polarity.zip.\n",
            "[nltk_data]    | Downloading package sentiwordnet to\n",
            "[nltk_data]    |     /root/nltk_data...\n",
            "[nltk_data]    |   Unzipping corpora/sentiwordnet.zip.\n",
            "[nltk_data]    | Downloading package shakespeare to /root/nltk_data...\n",
            "[nltk_data]    |   Unzipping corpora/shakespeare.zip.\n",
            "[nltk_data]    | Downloading package sinica_treebank to\n",
            "[nltk_data]    |     /root/nltk_data...\n",
            "[nltk_data]    |   Unzipping corpora/sinica_treebank.zip.\n",
            "[nltk_data]    | Downloading package smultron to /root/nltk_data...\n",
            "[nltk_data]    |   Unzipping corpora/smultron.zip.\n",
            "[nltk_data]    | Downloading package snowball_data to\n",
            "[nltk_data]    |     /root/nltk_data...\n",
            "[nltk_data]    | Downloading package spanish_grammars to\n",
            "[nltk_data]    |     /root/nltk_data...\n",
            "[nltk_data]    |   Unzipping grammars/spanish_grammars.zip.\n",
            "[nltk_data]    | Downloading package state_union to /root/nltk_data...\n",
            "[nltk_data]    |   Unzipping corpora/state_union.zip.\n",
            "[nltk_data]    | Downloading package stopwords to /root/nltk_data...\n",
            "[nltk_data]    |   Unzipping corpora/stopwords.zip.\n",
            "[nltk_data]    | Downloading package subjectivity to\n",
            "[nltk_data]    |     /root/nltk_data...\n",
            "[nltk_data]    |   Unzipping corpora/subjectivity.zip.\n",
            "[nltk_data]    | Downloading package swadesh to /root/nltk_data...\n",
            "[nltk_data]    |   Unzipping corpora/swadesh.zip.\n",
            "[nltk_data]    | Downloading package switchboard to /root/nltk_data...\n",
            "[nltk_data]    |   Unzipping corpora/switchboard.zip.\n",
            "[nltk_data]    | Downloading package tagsets to /root/nltk_data...\n",
            "[nltk_data]    |   Unzipping help/tagsets.zip.\n",
            "[nltk_data]    | Downloading package tagsets_json to\n",
            "[nltk_data]    |     /root/nltk_data...\n",
            "[nltk_data]    |   Unzipping help/tagsets_json.zip.\n",
            "[nltk_data]    | Downloading package timit to /root/nltk_data...\n",
            "[nltk_data]    |   Unzipping corpora/timit.zip.\n",
            "[nltk_data]    | Downloading package toolbox to /root/nltk_data...\n",
            "[nltk_data]    |   Unzipping corpora/toolbox.zip.\n",
            "[nltk_data]    | Downloading package treebank to /root/nltk_data...\n",
            "[nltk_data]    |   Unzipping corpora/treebank.zip.\n",
            "[nltk_data]    | Downloading package twitter_samples to\n",
            "[nltk_data]    |     /root/nltk_data...\n",
            "[nltk_data]    |   Unzipping corpora/twitter_samples.zip.\n",
            "[nltk_data]    | Downloading package udhr to /root/nltk_data...\n",
            "[nltk_data]    |   Unzipping corpora/udhr.zip.\n",
            "[nltk_data]    | Downloading package udhr2 to /root/nltk_data...\n",
            "[nltk_data]    |   Unzipping corpora/udhr2.zip.\n",
            "[nltk_data]    | Downloading package unicode_samples to\n",
            "[nltk_data]    |     /root/nltk_data...\n",
            "[nltk_data]    |   Unzipping corpora/unicode_samples.zip.\n",
            "[nltk_data]    | Downloading package universal_tagset to\n",
            "[nltk_data]    |     /root/nltk_data...\n",
            "[nltk_data]    |   Unzipping taggers/universal_tagset.zip.\n",
            "[nltk_data]    | Downloading package universal_treebanks_v20 to\n",
            "[nltk_data]    |     /root/nltk_data...\n",
            "[nltk_data]    | Downloading package vader_lexicon to\n",
            "[nltk_data]    |     /root/nltk_data...\n",
            "[nltk_data]    | Downloading package verbnet to /root/nltk_data...\n",
            "[nltk_data]    |   Unzipping corpora/verbnet.zip.\n",
            "[nltk_data]    | Downloading package verbnet3 to /root/nltk_data...\n",
            "[nltk_data]    |   Unzipping corpora/verbnet3.zip.\n",
            "[nltk_data]    | Downloading package webtext to /root/nltk_data...\n",
            "[nltk_data]    |   Unzipping corpora/webtext.zip.\n",
            "[nltk_data]    | Downloading package wmt15_eval to /root/nltk_data...\n",
            "[nltk_data]    |   Unzipping models/wmt15_eval.zip.\n",
            "[nltk_data]    | Downloading package word2vec_sample to\n",
            "[nltk_data]    |     /root/nltk_data...\n",
            "[nltk_data]    |   Unzipping models/word2vec_sample.zip.\n",
            "[nltk_data]    | Downloading package wordnet to /root/nltk_data...\n",
            "[nltk_data]    | Downloading package wordnet2021 to /root/nltk_data...\n",
            "[nltk_data]    | Downloading package wordnet2022 to /root/nltk_data...\n",
            "[nltk_data]    |   Unzipping corpora/wordnet2022.zip.\n",
            "[nltk_data]    | Downloading package wordnet31 to /root/nltk_data...\n",
            "[nltk_data]    | Downloading package wordnet_ic to /root/nltk_data...\n",
            "[nltk_data]    |   Unzipping corpora/wordnet_ic.zip.\n",
            "[nltk_data]    | Downloading package words to /root/nltk_data...\n",
            "[nltk_data]    |   Unzipping corpora/words.zip.\n",
            "[nltk_data]    | Downloading package ycoe to /root/nltk_data...\n",
            "[nltk_data]    |   Unzipping corpora/ycoe.zip.\n",
            "[nltk_data]    | \n",
            "[nltk_data]  Done downloading collection all\n"
          ]
        },
        {
          "output_type": "execute_result",
          "data": {
            "text/plain": [
              "True"
            ]
          },
          "metadata": {},
          "execution_count": 6
        }
      ],
      "source": [
        "import nltk\n",
        "\n",
        "nltk.download(\"all\")\n"
      ]
    },
    {
      "cell_type": "code",
      "execution_count": null,
      "metadata": {
        "id": "fLMUr8ZHEK-k"
      },
      "outputs": [],
      "source": [
        "from nltk import tokenize\n"
      ]
    },
    {
      "cell_type": "markdown",
      "metadata": {
        "id": "8E0GPTX1HRnz"
      },
      "source": [
        "**1º tratamento:**  Tokenizando todas as palavras do texto, retirando palavras irrelevantes(ex: de, na, que, em...) e deixando o texto em minúsculo."
      ]
    },
    {
      "cell_type": "code",
      "execution_count": null,
      "metadata": {
        "id": "Ga8i4oRZHScT"
      },
      "outputs": [],
      "source": [
        "\n",
        "def token_min(texto):\n",
        "  palavras_irrelevantes = nltk.corpus.stopwords.words(\"portuguese\")\n",
        "  frase_processada = list()\n",
        "\n",
        "  token_espaco = tokenize.WhitespaceTokenizer() #Separa cada palavra do texto com espaço\n",
        "\n",
        "  for doc in texto[\"text_raw\"]:\n",
        "      nova_frase = list()\n",
        "      doc = doc.lower()\n",
        "      palavras_texto = token_espaco.tokenize(doc)\n",
        "      for palavra in palavras_texto:\n",
        "          if palavra not in palavras_irrelevantes:\n",
        "              nova_frase.append(palavra)\n",
        "      frase_processada.append(' '.join(nova_frase))\n",
        "\n",
        "  texto[\"tratamento_1\"] = frase_processada"
      ]
    },
    {
      "cell_type": "markdown",
      "source": [
        "Importando a biblioteca re e definindo a função remover para substituir a regex dos tratamentos 2, 3 e 4"
      ],
      "metadata": {
        "id": "R2cubaueasln"
      }
    },
    {
      "cell_type": "code",
      "execution_count": null,
      "metadata": {
        "id": "aCNCCep48cWQ"
      },
      "outputs": [],
      "source": [
        "import re"
      ]
    },
    {
      "cell_type": "code",
      "execution_count": null,
      "metadata": {
        "id": "2i-ItATT8kMV"
      },
      "outputs": [],
      "source": [
        "def remover(textos, regex):\n",
        "    if type(textos) == str:\n",
        "        return regex.sub(\"\", textos)\n",
        "    else:\n",
        "        return [regex.sub(\"\", texto) for texto in textos] # Para conjunto de texto"
      ]
    },
    {
      "cell_type": "markdown",
      "metadata": {
        "id": "YEsh9AjP-4_P"
      },
      "source": [
        "**2º tratamento:** Remoção de pontuação"
      ]
    },
    {
      "cell_type": "code",
      "execution_count": null,
      "metadata": {
        "id": "ySBE1Cgl8o-q"
      },
      "outputs": [],
      "source": [
        "regex_pontuacao = r\"[^\\w\\s]\"\n",
        "regex_pontuacao_epecial = r'[º]+'\n",
        "\n",
        "regex_pontu = re.compile(\"|\".join([regex_pontuacao, regex_pontuacao_epecial]))\n",
        "\n",
        "def remover_pontuacao(texto, coluna_texto):\n",
        "  remocao_pontuacao = remover(coluna_texto, regex_pontu)\n",
        "  texto[\"tratamento_2\"] = remocao_pontuacao\n"
      ]
    },
    {
      "cell_type": "markdown",
      "metadata": {
        "id": "nzWj_Rw6gWH4"
      },
      "source": [
        "3º Tratamento: Removendo dígitos e numeração romana"
      ]
    },
    {
      "cell_type": "code",
      "execution_count": null,
      "metadata": {
        "id": "VuwiTqO8gjpd"
      },
      "outputs": [],
      "source": [
        "def remover_numero(texto):\n",
        "\n",
        "  regex_romano = r'\\b(xc|xl|l?x?x?x?)(ix|iv|v?i{0,3})+\\b'\n",
        "  regex_numeral = r'(\\d+)'\n",
        "\n",
        "  regex_digito = re.compile(\"|\".join([regex_romano, regex_numeral]))\n",
        "\n",
        "  texto_sem_numeracao = remover(texto.tratamento_2, regex_digito)\n",
        "\n",
        "  texto[\"tratamento_3\"] = texto_sem_numeracao\n",
        "\n"
      ]
    },
    {
      "cell_type": "markdown",
      "source": [
        "4º Tratamento: Tratamento para a remoção de palavras irrelevantes semânticamente para o entendimento do contexto dos documentos."
      ],
      "metadata": {
        "id": "zXl0umJjDVP_"
      }
    },
    {
      "cell_type": "code",
      "execution_count": null,
      "metadata": {
        "id": "vmS9okt49of-"
      },
      "outputs": [],
      "source": [
        "regex_China = re.compile(r\"\\b(organizações|lei|artigos|medidas|devem|acordo|china|república|relevantes|popular|disposições|administrativos|leis|deve|outras|outros|instituições|direitos|realizar|capítulo|tomar|melhorar|uso|sobre|artigo|fornecer|gerar|etc|termos|competentes|competente|relevante|ministério)\\b\")\n",
        "\n",
        "regex_Brasil = re.compile(r\"\\b(sistemas|sistema|art|lei|competente|uso|desta|bem|utilização|medidas|avaliação|direito|sobre|funcionamento|adoção|forma|parágrafo|único|incluindo|riscos|meio|termos|previstos|práticas|caso|n|seguintes|pessoa|alto|caput)\\b\")\n",
        "\n",
        "regex_EUA = re.compile(r\"\\b(desenvolver|nacional|secretário|dia|diretor|prazo|agência|data|ordem|medida|programa|autoridade|prática|capacidade|forma|presidente|modelo|termo|avaliação|resultado|atividade|setor|recurso|agente|parte|poder|implementação|base|estrutura|consulta|acesso|acordo|conselho|objetivo|fim|entidade|grupo|parágrafo|despacho|contexto|artigo|pedido|seg|conta|seção|padrõe|energia|orientaçõe|assunto|conjunto|maneira|caso|processo|incluindo|dias|sobre|apropriado|partir|conforme|estados|outras|lei|unidos|deverá|desta|a|b|c|d|e|f|g|h|j|k|m|deste|modelos|considerar|relacionadas|interna|relevantes|coordenação|orientações|outros|bem|devem|meio|qualquer|consistente|uso|federal|através)\\b\")\n",
        "\n",
        "regex_Egito = re.compile(r\"\\b(número|d b d n h s|idf fdnl r t fdd dsf cc s g h t s|c e n c c m p u t d r s s t m s n f r m c a n f r m c a t c n g c n t f c n f r m a t c p r c a p d s s s q u s c b a e s n c c s s|s s t m s c m p u t d r s m u t m d p r g r m s n g n h r|c u t r|estratégia|egipto|pode|egito|uso|podem|nível|países|sobre|fase|diferentes|através|geral|tempo|numero|total|é|menos|principais|bem|todos|outros|setor|internacional|país|especialmente|escala|ponto|melhorar|relacionadas|classificação|nova|novo|outra|todo|onde|toda|muitos|desde|necessário|muita|maior|alguns|piloto|ajudar|cada|disso|ano|sendo|qualquer|etc|deve|sendo|devem|sector|longo|parte|tanto|ter|toda|máquina|além|abaixo|investigação|exemplo|incluindo|forma|portanto)\\b\")\n",
        "\n",
        "regex_Singapura = re.compile(r\"\\b(modelo|podem|pode|decisão|modelos|exemplo|sobre|tomada|garantir|medidas|conjunto|devem|praticas|por|a|b|c|d|e|f|processo|considerar|algoritmos|partes|princípios|relevantes|sistemas|diferentes|interessadas|conjunto|organização|estrutura|estruturas|decisões|eou|risco|usar|incluindo|uso|organizações)\\b\")\n",
        "\n",
        "regex_UE = re.compile(r\"\\b(artigo|elevado|conformidade|requisito|medida|comissão|capítulo|ato|avaliação|caso|procedimento|atividade|colocação|título|termo|utilização|finalidade|efeito|termos|parte|base|controlo|registo|ponto|estadosmembros|acordo|norma|notificação|técnica|organismo|resultado|c|execução|tido|prazo|elemento|sistemas|circunstância|coima|âmbito|fim|conjunto|aquando|tr|cópia|tempo|parágrafo|jornal|aspeto|pai|documentação|devem|deve|presente|autoridade|regulamento|n|requisitos|organismos|união|estabelecidos|ue|refere|medidas|anexo|notificados|competentes|atividades|nacional|qualquer|atos|incluindo|causa|efeitos|prevista|a|b|d|e|f|g|h|j|k|l|m|n|fornecedores|gestão|sobre|pode|todas|relação|pedido|disso|conta|utilizador|diretiva|necessárias|podem|quaisquer|seguintes|adequadas|referidos|outras|alínea|cada|nomeadamente|bem|desses|desse|ter|outros|sob|nacionais|inteligência|artificial)\\b\")\n",
        "\n",
        "regex_Vietna = re.compile(r\"\\b(medidas|aplicações|sobre|alto|alta|partilha|centro|data|ministério|nacionais|vietname|implementação|melhorar|nacional)\\b\")\n",
        "\n",
        "regex_Ruanda = re.compile(r\"\\b(ano|fiscal|nacional|sobre|estabelecer|realizar|número|resultado)\\b\")\n",
        "\n",
        "regex_ReinoUnido = re.compile(r\"\\b(sobre|cid|reino|unido|forma|podem|regulamentação|pode|exemplo|incluindo|regulamentares|modelos|existentes|todo|funções|função|garantir)\\b\")"
      ]
    },
    {
      "cell_type": "markdown",
      "metadata": {
        "id": "vWcV9063pGj3"
      },
      "source": [
        "5º Tratamento: Removendo os espaços em branco"
      ]
    },
    {
      "cell_type": "code",
      "execution_count": null,
      "metadata": {
        "id": "sUzcvX9cHQhq"
      },
      "outputs": [],
      "source": [
        "\n",
        "regex_espaco = re.compile(r\" +\")\n",
        "\n",
        "def substituir_por_espaco(textos, regex):\n",
        "    if type(textos) == str:\n",
        "        return regex.sub(\" \", textos)\n",
        "    else:\n",
        "        return [regex.sub(\" \", texto) for texto in textos]\n",
        "\n",
        "def remover_espaco(texto):\n",
        "  remocao_de_espaco = substituir_por_espaco(texto.tratamento_4, regex_espaco)\n",
        "\n",
        "  texto[\"tratamento_5\"] = remocao_de_espaco"
      ]
    },
    {
      "cell_type": "markdown",
      "metadata": {
        "id": "bVWlsCI4xDP5"
      },
      "source": [
        "##Aplicação dos tratamentos nos datraframes de cada país"
      ]
    },
    {
      "cell_type": "markdown",
      "source": [
        "1º Tratamento:"
      ],
      "metadata": {
        "id": "pRDWnFc-lLln"
      }
    },
    {
      "cell_type": "code",
      "execution_count": null,
      "metadata": {
        "id": "UWSrlYvR2bmO"
      },
      "outputs": [],
      "source": [
        "token_min(data_Brasil)\n",
        "token_min(data_China)\n",
        "token_min(data_EUA)\n",
        "token_min(data_Egito)\n",
        "token_min(data_Singapura)\n",
        "token_min(data_UE)\n",
        "token_min(data_Vietna)\n",
        "token_min(data_Ruanda)\n",
        "token_min(data_ReinoUnido)"
      ]
    },
    {
      "cell_type": "markdown",
      "source": [
        "2º Tratamento:"
      ],
      "metadata": {
        "id": "Pd7LhhsLlNFG"
      }
    },
    {
      "cell_type": "code",
      "execution_count": null,
      "metadata": {
        "id": "5T7WAB9N3mJ1"
      },
      "outputs": [],
      "source": [
        "remover_pontuacao(data_Brasil,data_Brasil.tratamento_1)\n",
        "remover_pontuacao(data_China, data_China.tratamento_1)\n",
        "remover_pontuacao(data_EUA, data_EUA.tratamento_1)\n",
        "remover_pontuacao(data_Egito, data_Egito.tratamento_1)\n",
        "remover_pontuacao(data_Singapura, data_Singapura.tratamento_1)\n",
        "remover_pontuacao(data_UE, data_UE.tratamento_1)\n",
        "remover_pontuacao(data_Vietna, data_Vietna.tratamento_1)\n",
        "remover_pontuacao(data_Ruanda, data_Ruanda.tratamento_1)\n",
        "remover_pontuacao(data_ReinoUnido, data_ReinoUnido.tratamento_1)"
      ]
    },
    {
      "cell_type": "markdown",
      "source": [
        "3º Tratamento:"
      ],
      "metadata": {
        "id": "YnyGgBqVleAV"
      }
    },
    {
      "cell_type": "code",
      "execution_count": null,
      "metadata": {
        "id": "kfO7RpT54Zj4"
      },
      "outputs": [],
      "source": [
        "remover_numero(data_Brasil)\n",
        "remover_numero(data_China)\n",
        "remover_numero(data_EUA)\n",
        "remover_numero(data_Egito)\n",
        "remover_numero(data_Singapura)\n",
        "remover_numero(data_UE)\n",
        "remover_numero(data_Vietna)\n",
        "remover_numero(data_Ruanda)\n",
        "remover_numero(data_ReinoUnido)"
      ]
    },
    {
      "cell_type": "markdown",
      "source": [
        "4º Tratamento:"
      ],
      "metadata": {
        "id": "t-swIqkHnSkS"
      }
    },
    {
      "cell_type": "code",
      "execution_count": null,
      "metadata": {
        "id": "RdYc34RX97_f"
      },
      "outputs": [],
      "source": [
        "tratamento_4_Brasil = remover(data_Brasil.tratamento_3, regex_Brasil)\n",
        "data_Brasil[\"tratamento_4\"] = tratamento_4_Brasil"
      ]
    },
    {
      "cell_type": "code",
      "execution_count": null,
      "metadata": {
        "id": "cm-XCvfx-20i"
      },
      "outputs": [],
      "source": [
        "tratamento_4_China = remover(data_China.tratamento_3, regex_China)\n",
        "data_China[\"tratamento_4\"] = tratamento_4_China"
      ]
    },
    {
      "cell_type": "code",
      "source": [
        "tratamento_4_EUA = remover(data_EUA.tratamento_3, regex_EUA)\n",
        "data_EUA[\"tratamento_4\"] = tratamento_4_EUA"
      ],
      "metadata": {
        "id": "ZQ8GjdH445CK"
      },
      "execution_count": null,
      "outputs": []
    },
    {
      "cell_type": "code",
      "source": [
        "tratamento_4_Egito = remover(data_Egito.tratamento_3, regex_Egito)\n",
        "data_Egito[\"tratamento_4\"] = tratamento_4_Egito"
      ],
      "metadata": {
        "id": "PvHFh0Wv8M3Y"
      },
      "execution_count": null,
      "outputs": []
    },
    {
      "cell_type": "code",
      "source": [
        "tratamento_4_Singapura = remover(data_Singapura.tratamento_3, regex_Singapura)\n",
        "data_Singapura[\"tratamento_4\"] = tratamento_4_Singapura"
      ],
      "metadata": {
        "id": "SJ0lYoAc9emG"
      },
      "execution_count": null,
      "outputs": []
    },
    {
      "cell_type": "code",
      "source": [
        "tratamento_4_UE = remover(data_UE.tratamento_3, regex_UE)\n",
        "data_UE[\"tratamento_4\"] = tratamento_4_UE"
      ],
      "metadata": {
        "id": "_r0lKdz05bZx"
      },
      "execution_count": null,
      "outputs": []
    },
    {
      "cell_type": "code",
      "source": [
        "tratamento_4_Vietna = remover(data_Vietna.tratamento_3, regex_Vietna)\n",
        "data_Vietna[\"tratamento_4\"] = tratamento_4_Vietna"
      ],
      "metadata": {
        "id": "5nhTfqg-ZPQO"
      },
      "execution_count": null,
      "outputs": []
    },
    {
      "cell_type": "code",
      "source": [
        "tratamento_4_Ruanda = remover(data_Ruanda.tratamento_3, regex_Ruanda)\n",
        "data_Ruanda[\"tratamento_4\"] = tratamento_4_Ruanda"
      ],
      "metadata": {
        "id": "MX5uFyHWbPV3"
      },
      "execution_count": null,
      "outputs": []
    },
    {
      "cell_type": "code",
      "source": [
        "tratamento_4_ReinoUnido = remover(data_ReinoUnido.tratamento_3, regex_ReinoUnido)\n",
        "data_ReinoUnido[\"tratamento_4\"] = tratamento_4_ReinoUnido"
      ],
      "metadata": {
        "id": "YUuEl25btrOq"
      },
      "execution_count": null,
      "outputs": []
    },
    {
      "cell_type": "markdown",
      "metadata": {
        "id": "7beQHoo1xdIr"
      },
      "source": [
        " 5º Tratamento:"
      ]
    },
    {
      "cell_type": "code",
      "execution_count": null,
      "metadata": {
        "id": "1NnuDGtG4gAF"
      },
      "outputs": [],
      "source": [
        "remover_espaco(data_Brasil)\n",
        "remover_espaco(data_China)\n",
        "remover_espaco(data_EUA)\n",
        "remover_espaco(data_Egito)\n",
        "remover_espaco(data_Singapura)\n",
        "remover_espaco(data_UE)\n",
        "remover_espaco(data_Vietna)\n",
        "remover_espaco(data_Ruanda)\n",
        "remover_espaco(data_ReinoUnido)"
      ]
    },
    {
      "cell_type": "markdown",
      "metadata": {
        "id": "hSM_Fqa--JRJ"
      },
      "source": [
        "#Plotagem das tabelas com as 12 palavras mais citadas"
      ]
    },
    {
      "cell_type": "markdown",
      "source": [
        "Calculando a frequência com que cada palavra aparece em cada um dos documentos"
      ],
      "metadata": {
        "id": "-Whpq8kqEr7K"
      }
    },
    {
      "cell_type": "code",
      "execution_count": null,
      "metadata": {
        "id": "nq_teL7kvlA4"
      },
      "outputs": [],
      "source": [
        "token_espaco = tokenize.WhitespaceTokenizer()\n",
        "todas_palavras_Brasil = ' '.join([texto for texto in data_Brasil[\"tratamento_5\"]])\n",
        "frequencia_Brasil = nltk.FreqDist(token_espaco.tokenize(todas_palavras_Brasil))\n",
        "\n",
        "todas_palavras_China = ' '.join([texto for texto in data_China[\"tratamento_5\"]])\n",
        "frequencia_China = nltk.FreqDist(token_espaco.tokenize(todas_palavras_China))\n",
        "\n",
        "todas_palavras_EUA = ' '.join([texto for texto in data_EUA[\"tratamento_5\"]])\n",
        "frequencia_EUA = nltk.FreqDist(token_espaco.tokenize(todas_palavras_EUA))\n",
        "\n",
        "todas_palavras_Egito = ' '.join([texto for texto in data_Egito[\"tratamento_5\"]])\n",
        "frequencia_Egito = nltk.FreqDist(token_espaco.tokenize(todas_palavras_Egito))\n",
        "\n",
        "todas_palavras_Singapura = ' '.join([texto for texto in data_Singapura[\"tratamento_5\"]])\n",
        "frequencia_Singapura = nltk.FreqDist(token_espaco.tokenize(todas_palavras_Singapura))\n",
        "\n",
        "todas_palavras_UE = ' '.join([texto for texto in data_UE[\"tratamento_5\"]])\n",
        "frequencia_UE = nltk.FreqDist(token_espaco.tokenize(todas_palavras_UE))\n",
        "\n",
        "todas_palavras_Vietna = ' '.join([texto for texto in data_Vietna[\"tratamento_5\"]])\n",
        "frequencia_Vietna = nltk.FreqDist(token_espaco.tokenize(todas_palavras_Vietna))\n",
        "\n",
        "todas_palavras_Ruanda = ' '.join([texto for texto in data_Ruanda[\"tratamento_5\"]])\n",
        "frequencia_Ruanda = nltk.FreqDist(token_espaco.tokenize(todas_palavras_Ruanda))\n",
        "\n",
        "todas_palavras_ReinoUnido = ' '.join([texto for texto in data_ReinoUnido[\"tratamento_5\"]])\n",
        "frequencia_ReinoUnido = nltk.FreqDist(token_espaco.tokenize(todas_palavras_ReinoUnido))"
      ]
    },
    {
      "cell_type": "markdown",
      "source": [
        "Importando a biblioteca Pandas, para a exibição da tabela com os tokens mais citados"
      ],
      "metadata": {
        "id": "UTmfigtiEn5Z"
      }
    },
    {
      "cell_type": "code",
      "execution_count": null,
      "metadata": {
        "id": "CbGJNf7Gxwp9"
      },
      "outputs": [],
      "source": [
        "import pandas as pd"
      ]
    },
    {
      "cell_type": "code",
      "execution_count": null,
      "metadata": {
        "id": "gvzKmoYk-YJJ"
      },
      "outputs": [],
      "source": [
        "df_frequencia_Brasil = pd.DataFrame({\"Brasil\":list(frequencia_Brasil.keys()), \"Frequência\": list(frequencia_Brasil.values())})\n",
        "lista_Brasil = df_frequencia_Brasil.nlargest(columns = \"Frequência\", n = 12) #Esse método mostra as primeiras palvras que mais aparecem"
      ]
    },
    {
      "cell_type": "code",
      "execution_count": null,
      "metadata": {
        "id": "-eTWpTUO_Tgy"
      },
      "outputs": [],
      "source": [
        "df_frequencia_China = pd.DataFrame({\"China\":list(frequencia_China.keys()), \"Frequência\": list(frequencia_China.values())})\n",
        "lista_China = df_frequencia_China.nlargest(columns = \"Frequência\", n = 12) #Esse método mostra as primeiras palvras que mais aparecem"
      ]
    },
    {
      "cell_type": "code",
      "source": [
        "df_frequencia_EUA = pd.DataFrame({\"EUA\":list(frequencia_EUA.keys()), \"Frequência\": list(frequencia_EUA.values())})\n",
        "lista_EUA = df_frequencia_EUA.nlargest(columns = \"Frequência\", n = 12) #Esse método mostra as primeiras palvras que mais aparecem"
      ],
      "metadata": {
        "id": "geMqmtMd5Jbz"
      },
      "execution_count": null,
      "outputs": []
    },
    {
      "cell_type": "code",
      "source": [
        "df_frequencia_Egito = pd.DataFrame({\"Egito\":list(frequencia_Egito.keys()), \"Frequência\": list(frequencia_Egito.values())})\n",
        "lista_Egito = df_frequencia_Egito.nlargest(columns = \"Frequência\", n = 12) #Esse método mostra as primeiras palvras que mais aparecem"
      ],
      "metadata": {
        "id": "0L7JqKjQ8ZKM"
      },
      "execution_count": null,
      "outputs": []
    },
    {
      "cell_type": "code",
      "source": [
        "df_frequencia_Singapura = pd.DataFrame({\"Singapura\":list(frequencia_Singapura.keys()), \"Frequência\": list(frequencia_Singapura.values())})\n",
        "lista_Singapura = df_frequencia_Singapura.nlargest(columns = \"Frequência\", n =12) #Esse método mostra as primeiras palvras que mais aparecem"
      ],
      "metadata": {
        "id": "vSfjjTbb9uul"
      },
      "execution_count": null,
      "outputs": []
    },
    {
      "cell_type": "code",
      "source": [
        "df_frequencia_UE = pd.DataFrame({\"UE\":list(frequencia_UE.keys()), \"Frequência\": list(frequencia_UE.values())})\n",
        "lista_UE = df_frequencia_UE.nlargest(columns = \"Frequência\", n =12) #Esse método mostra as primeiras palvras que mais aparecem"
      ],
      "metadata": {
        "id": "7pk1kny_BnnB"
      },
      "execution_count": null,
      "outputs": []
    },
    {
      "cell_type": "code",
      "source": [
        "df_frequencia_Vietna = pd.DataFrame({\"Vietnã\":list(frequencia_Vietna.keys()), \"Frequência\": list(frequencia_Vietna.values())})\n",
        "lista_Vietna = df_frequencia_Vietna.nlargest(columns = \"Frequência\", n =12) #Esse método mostra as primeiras palvras que mais aparecem"
      ],
      "metadata": {
        "id": "TkPcATuHZCYy"
      },
      "execution_count": null,
      "outputs": []
    },
    {
      "cell_type": "code",
      "source": [
        "df_frequencia_Ruanda = pd.DataFrame({\"Ruanda\":list(frequencia_Ruanda.keys()), \"Frequência\": list(frequencia_Ruanda.values())})\n",
        "lista_Ruanda = df_frequencia_Ruanda.nlargest(columns = \"Frequência\", n =12) #Esse método mostra as primeiras palvras que mais aparecem"
      ],
      "metadata": {
        "id": "Oxe-ht41ZmA9"
      },
      "execution_count": null,
      "outputs": []
    },
    {
      "cell_type": "code",
      "source": [
        "df_frequencia_ReinoUnido = pd.DataFrame({\"Reino Unido\":list(frequencia_ReinoUnido.keys()), \"Frequência\": list(frequencia_ReinoUnido.values())})\n",
        "lista_ReinoUnido = df_frequencia_ReinoUnido.nlargest(columns = \"Frequência\", n =12) #Esse método mostra as primeiras palvras que mais aparecem"
      ],
      "metadata": {
        "id": "o5lfOUrvp0lx"
      },
      "execution_count": null,
      "outputs": []
    },
    {
      "cell_type": "markdown",
      "source": [
        "Gerando as tabelas lado a lado"
      ],
      "metadata": {
        "id": "fSvg8WXQFQ_t"
      }
    },
    {
      "cell_type": "code",
      "source": [
        "from IPython.display import HTML\n",
        "def  side_by_side_country ( *list ):\n",
        "  html = '<div style=\"display:grid; grid-template-columns: repeat(5,280px);\">'\n",
        "  for df in list:\n",
        "      html += '<div style=\"margin-right: 2em\">'\n",
        "      html += df.to_html()\n",
        "      html += '</div>'\n",
        "  html += '</div>'\n",
        "  display(HTML(html))"
      ],
      "metadata": {
        "id": "YOVmUSrjgytt"
      },
      "execution_count": null,
      "outputs": []
    },
    {
      "cell_type": "code",
      "source": [
        "side_by_side_country(lista_Brasil, lista_China, lista_Egito, lista_EUA, lista_ReinoUnido, lista_Ruanda,lista_Singapura, lista_UE, lista_Vietna)"
      ],
      "metadata": {
        "colab": {
          "base_uri": "https://localhost:8080/",
          "height": 854
        },
        "id": "ZMV1Z9cAbIvf",
        "outputId": "05dd8556-b6df-49f6-91cb-e48841915915"
      },
      "execution_count": null,
      "outputs": [
        {
          "output_type": "display_data",
          "data": {
            "text/plain": [
              "<IPython.core.display.HTML object>"
            ],
            "text/html": [
              "<div style=\"display:grid; grid-template-columns: repeat(5,280px);\"><div style=\"margin-right: 2em\"><table border=\"1\" class=\"dataframe\">\n",
              "  <thead>\n",
              "    <tr style=\"text-align: right;\">\n",
              "      <th></th>\n",
              "      <th>Brasil</th>\n",
              "      <th>Frequência</th>\n",
              "    </tr>\n",
              "  </thead>\n",
              "  <tbody>\n",
              "    <tr>\n",
              "      <th>8</th>\n",
              "      <td>inteligência</td>\n",
              "      <td>175</td>\n",
              "    </tr>\n",
              "    <tr>\n",
              "      <th>9</th>\n",
              "      <td>artificial</td>\n",
              "      <td>174</td>\n",
              "    </tr>\n",
              "    <tr>\n",
              "      <th>47</th>\n",
              "      <td>dados</td>\n",
              "      <td>54</td>\n",
              "    </tr>\n",
              "    <tr>\n",
              "      <th>5</th>\n",
              "      <td>desenvolvimento</td>\n",
              "      <td>37</td>\n",
              "    </tr>\n",
              "    <tr>\n",
              "      <th>14</th>\n",
              "      <td>direitos</td>\n",
              "      <td>37</td>\n",
              "    </tr>\n",
              "    <tr>\n",
              "      <th>241</th>\n",
              "      <td>pessoas</td>\n",
              "      <td>35</td>\n",
              "    </tr>\n",
              "    <tr>\n",
              "      <th>553</th>\n",
              "      <td>risco</td>\n",
              "      <td>34</td>\n",
              "    </tr>\n",
              "    <tr>\n",
              "      <th>184</th>\n",
              "      <td>autoridade</td>\n",
              "      <td>29</td>\n",
              "    </tr>\n",
              "    <tr>\n",
              "      <th>57</th>\n",
              "      <td>público</td>\n",
              "      <td>28</td>\n",
              "    </tr>\n",
              "    <tr>\n",
              "      <th>508</th>\n",
              "      <td>impacto</td>\n",
              "      <td>25</td>\n",
              "    </tr>\n",
              "    <tr>\n",
              "      <th>181</th>\n",
              "      <td>agentes</td>\n",
              "      <td>24</td>\n",
              "    </tr>\n",
              "    <tr>\n",
              "      <th>85</th>\n",
              "      <td>segurança</td>\n",
              "      <td>20</td>\n",
              "    </tr>\n",
              "  </tbody>\n",
              "</table></div><div style=\"margin-right: 2em\"><table border=\"1\" class=\"dataframe\">\n",
              "  <thead>\n",
              "    <tr style=\"text-align: right;\">\n",
              "      <th></th>\n",
              "      <th>China</th>\n",
              "      <th>Frequência</th>\n",
              "    </tr>\n",
              "  </thead>\n",
              "  <tbody>\n",
              "    <tr>\n",
              "      <th>3</th>\n",
              "      <td>inteligência</td>\n",
              "      <td>43</td>\n",
              "    </tr>\n",
              "    <tr>\n",
              "      <th>4</th>\n",
              "      <td>artificial</td>\n",
              "      <td>38</td>\n",
              "    </tr>\n",
              "    <tr>\n",
              "      <th>2</th>\n",
              "      <td>serviços</td>\n",
              "      <td>37</td>\n",
              "    </tr>\n",
              "    <tr>\n",
              "      <th>67</th>\n",
              "      <td>generativa</td>\n",
              "      <td>36</td>\n",
              "    </tr>\n",
              "    <tr>\n",
              "      <th>78</th>\n",
              "      <td>dados</td>\n",
              "      <td>20</td>\n",
              "    </tr>\n",
              "    <tr>\n",
              "      <th>16</th>\n",
              "      <td>informações</td>\n",
              "      <td>19</td>\n",
              "    </tr>\n",
              "    <tr>\n",
              "      <th>26</th>\n",
              "      <td>segurança</td>\n",
              "      <td>18</td>\n",
              "    </tr>\n",
              "    <tr>\n",
              "      <th>23</th>\n",
              "      <td>tecnologia</td>\n",
              "      <td>17</td>\n",
              "    </tr>\n",
              "    <tr>\n",
              "      <th>84</th>\n",
              "      <td>regulamentos</td>\n",
              "      <td>14</td>\n",
              "    </tr>\n",
              "    <tr>\n",
              "      <th>80</th>\n",
              "      <td>pessoais</td>\n",
              "      <td>11</td>\n",
              "    </tr>\n",
              "    <tr>\n",
              "      <th>19</th>\n",
              "      <td>desenvolvimento</td>\n",
              "      <td>10</td>\n",
              "    </tr>\n",
              "    <tr>\n",
              "      <th>186</th>\n",
              "      <td>treinamento</td>\n",
              "      <td>8</td>\n",
              "    </tr>\n",
              "  </tbody>\n",
              "</table></div><div style=\"margin-right: 2em\"><table border=\"1\" class=\"dataframe\">\n",
              "  <thead>\n",
              "    <tr style=\"text-align: right;\">\n",
              "      <th></th>\n",
              "      <th>Egito</th>\n",
              "      <th>Frequência</th>\n",
              "    </tr>\n",
              "  </thead>\n",
              "  <tbody>\n",
              "    <tr>\n",
              "      <th>9</th>\n",
              "      <td>ia</td>\n",
              "      <td>574</td>\n",
              "    </tr>\n",
              "    <tr>\n",
              "      <th>299</th>\n",
              "      <td>dados</td>\n",
              "      <td>186</td>\n",
              "    </tr>\n",
              "    <tr>\n",
              "      <th>10</th>\n",
              "      <td>desenvolvimento</td>\n",
              "      <td>94</td>\n",
              "    </tr>\n",
              "    <tr>\n",
              "      <th>36</th>\n",
              "      <td>impacto</td>\n",
              "      <td>56</td>\n",
              "    </tr>\n",
              "    <tr>\n",
              "      <th>181</th>\n",
              "      <td>empresas</td>\n",
              "      <td>56</td>\n",
              "    </tr>\n",
              "    <tr>\n",
              "      <th>417</th>\n",
              "      <td>aplicações</td>\n",
              "      <td>50</td>\n",
              "    </tr>\n",
              "    <tr>\n",
              "      <th>69</th>\n",
              "      <td>programas</td>\n",
              "      <td>45</td>\n",
              "    </tr>\n",
              "    <tr>\n",
              "      <th>249</th>\n",
              "      <td>projetos</td>\n",
              "      <td>45</td>\n",
              "    </tr>\n",
              "    <tr>\n",
              "      <th>229</th>\n",
              "      <td>governo</td>\n",
              "      <td>39</td>\n",
              "    </tr>\n",
              "    <tr>\n",
              "      <th>349</th>\n",
              "      <td>startups</td>\n",
              "      <td>37</td>\n",
              "    </tr>\n",
              "    <tr>\n",
              "      <th>75</th>\n",
              "      <td>trabalho</td>\n",
              "      <td>36</td>\n",
              "    </tr>\n",
              "    <tr>\n",
              "      <th>57</th>\n",
              "      <td>pesquisa</td>\n",
              "      <td>34</td>\n",
              "    </tr>\n",
              "  </tbody>\n",
              "</table></div><div style=\"margin-right: 2em\"><table border=\"1\" class=\"dataframe\">\n",
              "  <thead>\n",
              "    <tr style=\"text-align: right;\">\n",
              "      <th></th>\n",
              "      <th>EUA</th>\n",
              "      <th>Frequência</th>\n",
              "    </tr>\n",
              "  </thead>\n",
              "  <tbody>\n",
              "    <tr>\n",
              "      <th>2</th>\n",
              "      <td>ia</td>\n",
              "      <td>437</td>\n",
              "    </tr>\n",
              "    <tr>\n",
              "      <th>37</th>\n",
              "      <td>segurança</td>\n",
              "      <td>136</td>\n",
              "    </tr>\n",
              "    <tr>\n",
              "      <th>118</th>\n",
              "      <td>agências</td>\n",
              "      <td>100</td>\n",
              "    </tr>\n",
              "    <tr>\n",
              "      <th>36</th>\n",
              "      <td>riscos</td>\n",
              "      <td>80</td>\n",
              "    </tr>\n",
              "    <tr>\n",
              "      <th>85</th>\n",
              "      <td>dados</td>\n",
              "      <td>75</td>\n",
              "    </tr>\n",
              "    <tr>\n",
              "      <th>59</th>\n",
              "      <td>desenvolvimento</td>\n",
              "      <td>66</td>\n",
              "    </tr>\n",
              "    <tr>\n",
              "      <th>292</th>\n",
              "      <td>trabalho</td>\n",
              "      <td>58</td>\n",
              "    </tr>\n",
              "    <tr>\n",
              "      <th>49</th>\n",
              "      <td>governo</td>\n",
              "      <td>56</td>\n",
              "    </tr>\n",
              "    <tr>\n",
              "      <th>146</th>\n",
              "      <td>sistemas</td>\n",
              "      <td>49</td>\n",
              "    </tr>\n",
              "    <tr>\n",
              "      <th>60</th>\n",
              "      <td>utilização</td>\n",
              "      <td>44</td>\n",
              "    </tr>\n",
              "    <tr>\n",
              "      <th>243</th>\n",
              "      <td>tecnologias</td>\n",
              "      <td>43</td>\n",
              "    </tr>\n",
              "    <tr>\n",
              "      <th>456</th>\n",
              "      <td>informações</td>\n",
              "      <td>42</td>\n",
              "    </tr>\n",
              "  </tbody>\n",
              "</table></div><div style=\"margin-right: 2em\"><table border=\"1\" class=\"dataframe\">\n",
              "  <thead>\n",
              "    <tr style=\"text-align: right;\">\n",
              "      <th></th>\n",
              "      <th>Reino Unido</th>\n",
              "      <th>Frequência</th>\n",
              "    </tr>\n",
              "  </thead>\n",
              "  <tbody>\n",
              "    <tr>\n",
              "      <th>6</th>\n",
              "      <td>ia</td>\n",
              "      <td>543</td>\n",
              "    </tr>\n",
              "    <tr>\n",
              "      <th>340</th>\n",
              "      <td>reguladores</td>\n",
              "      <td>219</td>\n",
              "    </tr>\n",
              "    <tr>\n",
              "      <th>65</th>\n",
              "      <td>quadro</td>\n",
              "      <td>126</td>\n",
              "    </tr>\n",
              "    <tr>\n",
              "      <th>151</th>\n",
              "      <td>riscos</td>\n",
              "      <td>122</td>\n",
              "    </tr>\n",
              "    <tr>\n",
              "      <th>273</th>\n",
              "      <td>princípios</td>\n",
              "      <td>112</td>\n",
              "    </tr>\n",
              "    <tr>\n",
              "      <th>4</th>\n",
              "      <td>abordagem</td>\n",
              "      <td>83</td>\n",
              "    </tr>\n",
              "    <tr>\n",
              "      <th>118</th>\n",
              "      <td>regulamentar</td>\n",
              "      <td>77</td>\n",
              "    </tr>\n",
              "    <tr>\n",
              "      <th>204</th>\n",
              "      <td>apoiar</td>\n",
              "      <td>73</td>\n",
              "    </tr>\n",
              "    <tr>\n",
              "      <th>12</th>\n",
              "      <td>inovação</td>\n",
              "      <td>69</td>\n",
              "    </tr>\n",
              "    <tr>\n",
              "      <th>143</th>\n",
              "      <td>empresas</td>\n",
              "      <td>65</td>\n",
              "    </tr>\n",
              "    <tr>\n",
              "      <th>71</th>\n",
              "      <td>governo</td>\n",
              "      <td>62</td>\n",
              "    </tr>\n",
              "    <tr>\n",
              "      <th>210</th>\n",
              "      <td>indústria</td>\n",
              "      <td>56</td>\n",
              "    </tr>\n",
              "  </tbody>\n",
              "</table></div><div style=\"margin-right: 2em\"><table border=\"1\" class=\"dataframe\">\n",
              "  <thead>\n",
              "    <tr style=\"text-align: right;\">\n",
              "      <th></th>\n",
              "      <th>Ruanda</th>\n",
              "      <th>Frequência</th>\n",
              "    </tr>\n",
              "  </thead>\n",
              "  <tbody>\n",
              "    <tr>\n",
              "      <th>6</th>\n",
              "      <td>ia</td>\n",
              "      <td>191</td>\n",
              "    </tr>\n",
              "    <tr>\n",
              "      <th>1</th>\n",
              "      <td>ruanda</td>\n",
              "      <td>73</td>\n",
              "    </tr>\n",
              "    <tr>\n",
              "      <th>104</th>\n",
              "      <td>dados</td>\n",
              "      <td>39</td>\n",
              "    </tr>\n",
              "    <tr>\n",
              "      <th>106</th>\n",
              "      <td>setor</td>\n",
              "      <td>36</td>\n",
              "    </tr>\n",
              "    <tr>\n",
              "      <th>17</th>\n",
              "      <td>responsável</td>\n",
              "      <td>31</td>\n",
              "    </tr>\n",
              "    <tr>\n",
              "      <th>74</th>\n",
              "      <td>desenvolvimento</td>\n",
              "      <td>26</td>\n",
              "    </tr>\n",
              "    <tr>\n",
              "      <th>105</th>\n",
              "      <td>adoção</td>\n",
              "      <td>25</td>\n",
              "    </tr>\n",
              "    <tr>\n",
              "      <th>107</th>\n",
              "      <td>público</td>\n",
              "      <td>24</td>\n",
              "    </tr>\n",
              "    <tr>\n",
              "      <th>111</th>\n",
              "      <td>diretrizes</td>\n",
              "      <td>22</td>\n",
              "    </tr>\n",
              "    <tr>\n",
              "      <th>5</th>\n",
              "      <td>política</td>\n",
              "      <td>21</td>\n",
              "    </tr>\n",
              "    <tr>\n",
              "      <th>82</th>\n",
              "      <td>programa</td>\n",
              "      <td>19</td>\n",
              "    </tr>\n",
              "    <tr>\n",
              "      <th>110</th>\n",
              "      <td>privado</td>\n",
              "      <td>19</td>\n",
              "    </tr>\n",
              "  </tbody>\n",
              "</table></div><div style=\"margin-right: 2em\"><table border=\"1\" class=\"dataframe\">\n",
              "  <thead>\n",
              "    <tr style=\"text-align: right;\">\n",
              "      <th></th>\n",
              "      <th>Singapura</th>\n",
              "      <th>Frequência</th>\n",
              "    </tr>\n",
              "  </thead>\n",
              "  <tbody>\n",
              "    <tr>\n",
              "      <th>33</th>\n",
              "      <td>ia</td>\n",
              "      <td>250</td>\n",
              "    </tr>\n",
              "    <tr>\n",
              "      <th>8</th>\n",
              "      <td>dados</td>\n",
              "      <td>169</td>\n",
              "    </tr>\n",
              "    <tr>\n",
              "      <th>938</th>\n",
              "      <td>informações</td>\n",
              "      <td>39</td>\n",
              "    </tr>\n",
              "    <tr>\n",
              "      <th>301</th>\n",
              "      <td>riscos</td>\n",
              "      <td>36</td>\n",
              "    </tr>\n",
              "    <tr>\n",
              "      <th>580</th>\n",
              "      <td>sistema</td>\n",
              "      <td>33</td>\n",
              "    </tr>\n",
              "    <tr>\n",
              "      <th>385</th>\n",
              "      <td>indivíduos</td>\n",
              "      <td>32</td>\n",
              "    </tr>\n",
              "    <tr>\n",
              "      <th>230</th>\n",
              "      <td>fornecer</td>\n",
              "      <td>29</td>\n",
              "    </tr>\n",
              "    <tr>\n",
              "      <th>31</th>\n",
              "      <td>práticas</td>\n",
              "      <td>28</td>\n",
              "    </tr>\n",
              "    <tr>\n",
              "      <th>32</th>\n",
              "      <td>governança</td>\n",
              "      <td>27</td>\n",
              "    </tr>\n",
              "    <tr>\n",
              "      <th>64</th>\n",
              "      <td>humano</td>\n",
              "      <td>27</td>\n",
              "    </tr>\n",
              "    <tr>\n",
              "      <th>80</th>\n",
              "      <td>treinamento</td>\n",
              "      <td>27</td>\n",
              "    </tr>\n",
              "    <tr>\n",
              "      <th>767</th>\n",
              "      <td>viés</td>\n",
              "      <td>27</td>\n",
              "    </tr>\n",
              "  </tbody>\n",
              "</table></div><div style=\"margin-right: 2em\"><table border=\"1\" class=\"dataframe\">\n",
              "  <thead>\n",
              "    <tr style=\"text-align: right;\">\n",
              "      <th></th>\n",
              "      <th>UE</th>\n",
              "      <th>Frequência</th>\n",
              "    </tr>\n",
              "  </thead>\n",
              "  <tbody>\n",
              "    <tr>\n",
              "      <th>4</th>\n",
              "      <td>ia</td>\n",
              "      <td>316</td>\n",
              "    </tr>\n",
              "    <tr>\n",
              "      <th>41</th>\n",
              "      <td>sistema</td>\n",
              "      <td>270</td>\n",
              "    </tr>\n",
              "    <tr>\n",
              "      <th>9</th>\n",
              "      <td>risco</td>\n",
              "      <td>208</td>\n",
              "    </tr>\n",
              "    <tr>\n",
              "      <th>259</th>\n",
              "      <td>dados</td>\n",
              "      <td>119</td>\n",
              "    </tr>\n",
              "    <tr>\n",
              "      <th>2</th>\n",
              "      <td>mercado</td>\n",
              "      <td>115</td>\n",
              "    </tr>\n",
              "    <tr>\n",
              "      <th>57</th>\n",
              "      <td>autoridades</td>\n",
              "      <td>99</td>\n",
              "    </tr>\n",
              "    <tr>\n",
              "      <th>115</th>\n",
              "      <td>fornecedor</td>\n",
              "      <td>60</td>\n",
              "    </tr>\n",
              "    <tr>\n",
              "      <th>29</th>\n",
              "      <td>fiscalização</td>\n",
              "      <td>51</td>\n",
              "    </tr>\n",
              "    <tr>\n",
              "      <th>175</th>\n",
              "      <td>informações</td>\n",
              "      <td>48</td>\n",
              "    </tr>\n",
              "    <tr>\n",
              "      <th>44</th>\n",
              "      <td>segurança</td>\n",
              "      <td>47</td>\n",
              "    </tr>\n",
              "    <tr>\n",
              "      <th>3</th>\n",
              "      <td>serviço</td>\n",
              "      <td>45</td>\n",
              "    </tr>\n",
              "    <tr>\n",
              "      <th>391</th>\n",
              "      <td>estadomembro</td>\n",
              "      <td>41</td>\n",
              "    </tr>\n",
              "  </tbody>\n",
              "</table></div><div style=\"margin-right: 2em\"><table border=\"1\" class=\"dataframe\">\n",
              "  <thead>\n",
              "    <tr style=\"text-align: right;\">\n",
              "      <th></th>\n",
              "      <th>Vietnã</th>\n",
              "      <th>Frequência</th>\n",
              "    </tr>\n",
              "  </thead>\n",
              "  <tbody>\n",
              "    <tr>\n",
              "      <th>2</th>\n",
              "      <td>ia</td>\n",
              "      <td>119</td>\n",
              "    </tr>\n",
              "    <tr>\n",
              "      <th>25</th>\n",
              "      <td>desenvolvimento</td>\n",
              "      <td>38</td>\n",
              "    </tr>\n",
              "    <tr>\n",
              "      <th>150</th>\n",
              "      <td>dados</td>\n",
              "      <td>38</td>\n",
              "    </tr>\n",
              "    <tr>\n",
              "      <th>24</th>\n",
              "      <td>investigação</td>\n",
              "      <td>33</td>\n",
              "    </tr>\n",
              "    <tr>\n",
              "      <th>66</th>\n",
              "      <td>promover</td>\n",
              "      <td>32</td>\n",
              "    </tr>\n",
              "    <tr>\n",
              "      <th>26</th>\n",
              "      <td>aplicação</td>\n",
              "      <td>28</td>\n",
              "    </tr>\n",
              "    <tr>\n",
              "      <th>61</th>\n",
              "      <td>desenvolver</td>\n",
              "      <td>25</td>\n",
              "    </tr>\n",
              "    <tr>\n",
              "      <th>90</th>\n",
              "      <td>computação</td>\n",
              "      <td>22</td>\n",
              "    </tr>\n",
              "    <tr>\n",
              "      <th>3</th>\n",
              "      <td>tecnologia</td>\n",
              "      <td>19</td>\n",
              "    </tr>\n",
              "    <tr>\n",
              "      <th>34</th>\n",
              "      <td>recursos</td>\n",
              "      <td>17</td>\n",
              "    </tr>\n",
              "    <tr>\n",
              "      <th>63</th>\n",
              "      <td>empresas</td>\n",
              "      <td>17</td>\n",
              "    </tr>\n",
              "    <tr>\n",
              "      <th>94</th>\n",
              "      <td>centros</td>\n",
              "      <td>15</td>\n",
              "    </tr>\n",
              "  </tbody>\n",
              "</table></div></div>"
            ]
          },
          "metadata": {}
        }
      ]
    },
    {
      "cell_type": "markdown",
      "source": [
        "#Referências"
      ],
      "metadata": {
        "id": "PPIylTWprk2W"
      }
    },
    {
      "cell_type": "markdown",
      "source": [
        "[Linguagem Natural parte 1: NLP com análise de sentimentok](https://www.alura.com.br/curso-online-introducao-a-nlp-com-analise-de-sentimento)"
      ],
      "metadata": {
        "id": "kXqC68M8tvY-"
      }
    },
    {
      "cell_type": "markdown",
      "source": [
        "[Linguagem Natural parte 2: continuando com a análise de sentimento](https://www.alura.com.br/curso-online-nlp-com-analise-de-sentimento)"
      ],
      "metadata": {
        "id": "frFCs-91tw5y"
      }
    },
    {
      "cell_type": "markdown",
      "source": [
        "[NLP: regex e modelos de linguagem](https://www.alura.com.br/curso-online-nlp-modelos-linguagem)\n"
      ],
      "metadata": {
        "id": "J_DOR64LrpO_"
      }
    },
    {
      "cell_type": "markdown",
      "source": [
        "[Expressões regularem em Python](https://www.acervolima.com.br/2021/05/expressoes-regulares-em-python.html)"
      ],
      "metadata": {
        "id": "aoHA4T5Ft5-j"
      }
    },
    {
      "cell_type": "markdown",
      "source": [
        "[Displaying Multiple DataFrames Side By Side in Jupyter Lab/Notebook](https://python.plainenglish.io/displaying-multiple-dataframes-side-by-side-in-jupyter-lab-notebook-9a4649a4940)"
      ],
      "metadata": {
        "id": "0d_40UKZuaGC"
      }
    }
  ],
  "metadata": {
    "colab": {
      "provenance": [],
      "authorship_tag": "ABX9TyP+7qfCGp7yEx3uPaWwQ7rq",
      "include_colab_link": true
    },
    "kernelspec": {
      "display_name": "Python 3",
      "name": "python3"
    },
    "language_info": {
      "name": "python"
    }
  },
  "nbformat": 4,
  "nbformat_minor": 0
}